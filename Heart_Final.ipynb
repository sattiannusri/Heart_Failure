{
 "cells": [
  {
   "cell_type": "code",
   "execution_count": 249,
   "metadata": {},
   "outputs": [],
   "source": [
    "import numpy as np\n",
    "import pandas as pd\n",
    "import seaborn as sns\n",
    "import matplotlib.pyplot as plt\n",
    "from sklearn.model_selection import train_test_split\n",
    "from sklearn.linear_model import LogisticRegression\n",
    "import xgboost\n",
    "from xgboost import XGBClassifier\n",
    "from sklearn.neighbors import KNeighborsClassifier\n",
    "from sklearn.metrics import accuracy_score,precision_score\n",
    "from sklearn.preprocessing import MinMaxScaler\n",
    "from sklearn.preprocessing import LabelEncoder"
   ]
  },
  {
   "cell_type": "markdown",
   "metadata": {},
   "source": [
    "## Data can be procured from:\n",
    "## https://www.kaggle.com/andrewmvd/heart-failure-clinical-data"
   ]
  },
  {
   "cell_type": "code",
   "execution_count": 250,
   "metadata": {},
   "outputs": [],
   "source": [
    "df=pd.read_csv('D:/R programs/heart.csv')"
   ]
  },
  {
   "cell_type": "code",
   "execution_count": 251,
   "metadata": {},
   "outputs": [
    {
     "data": {
      "text/html": [
       "<div>\n",
       "<style scoped>\n",
       "    .dataframe tbody tr th:only-of-type {\n",
       "        vertical-align: middle;\n",
       "    }\n",
       "\n",
       "    .dataframe tbody tr th {\n",
       "        vertical-align: top;\n",
       "    }\n",
       "\n",
       "    .dataframe thead th {\n",
       "        text-align: right;\n",
       "    }\n",
       "</style>\n",
       "<table border=\"1\" class=\"dataframe\">\n",
       "  <thead>\n",
       "    <tr style=\"text-align: right;\">\n",
       "      <th></th>\n",
       "      <th>age</th>\n",
       "      <th>anaemia</th>\n",
       "      <th>creatinine_phosphokinase</th>\n",
       "      <th>diabetes</th>\n",
       "      <th>ejection_fraction</th>\n",
       "      <th>high_blood_pressure</th>\n",
       "      <th>platelets</th>\n",
       "      <th>serum_creatinine</th>\n",
       "      <th>serum_sodium</th>\n",
       "      <th>sex</th>\n",
       "      <th>smoking</th>\n",
       "      <th>time</th>\n",
       "      <th>DEATH_EVENT</th>\n",
       "    </tr>\n",
       "  </thead>\n",
       "  <tbody>\n",
       "    <tr>\n",
       "      <th>0</th>\n",
       "      <td>75.0</td>\n",
       "      <td>0</td>\n",
       "      <td>582</td>\n",
       "      <td>0</td>\n",
       "      <td>20</td>\n",
       "      <td>1</td>\n",
       "      <td>265000.00</td>\n",
       "      <td>1.9</td>\n",
       "      <td>130</td>\n",
       "      <td>1</td>\n",
       "      <td>0</td>\n",
       "      <td>4</td>\n",
       "      <td>1</td>\n",
       "    </tr>\n",
       "    <tr>\n",
       "      <th>1</th>\n",
       "      <td>55.0</td>\n",
       "      <td>0</td>\n",
       "      <td>7861</td>\n",
       "      <td>0</td>\n",
       "      <td>38</td>\n",
       "      <td>0</td>\n",
       "      <td>263358.03</td>\n",
       "      <td>1.1</td>\n",
       "      <td>136</td>\n",
       "      <td>1</td>\n",
       "      <td>0</td>\n",
       "      <td>6</td>\n",
       "      <td>1</td>\n",
       "    </tr>\n",
       "    <tr>\n",
       "      <th>2</th>\n",
       "      <td>65.0</td>\n",
       "      <td>0</td>\n",
       "      <td>146</td>\n",
       "      <td>0</td>\n",
       "      <td>20</td>\n",
       "      <td>0</td>\n",
       "      <td>162000.00</td>\n",
       "      <td>1.3</td>\n",
       "      <td>129</td>\n",
       "      <td>1</td>\n",
       "      <td>1</td>\n",
       "      <td>7</td>\n",
       "      <td>1</td>\n",
       "    </tr>\n",
       "    <tr>\n",
       "      <th>3</th>\n",
       "      <td>50.0</td>\n",
       "      <td>1</td>\n",
       "      <td>111</td>\n",
       "      <td>0</td>\n",
       "      <td>20</td>\n",
       "      <td>0</td>\n",
       "      <td>210000.00</td>\n",
       "      <td>1.9</td>\n",
       "      <td>137</td>\n",
       "      <td>1</td>\n",
       "      <td>0</td>\n",
       "      <td>7</td>\n",
       "      <td>1</td>\n",
       "    </tr>\n",
       "    <tr>\n",
       "      <th>4</th>\n",
       "      <td>65.0</td>\n",
       "      <td>1</td>\n",
       "      <td>160</td>\n",
       "      <td>1</td>\n",
       "      <td>20</td>\n",
       "      <td>0</td>\n",
       "      <td>327000.00</td>\n",
       "      <td>2.7</td>\n",
       "      <td>116</td>\n",
       "      <td>0</td>\n",
       "      <td>0</td>\n",
       "      <td>8</td>\n",
       "      <td>1</td>\n",
       "    </tr>\n",
       "  </tbody>\n",
       "</table>\n",
       "</div>"
      ],
      "text/plain": [
       "    age  anaemia  creatinine_phosphokinase  diabetes  ejection_fraction  \\\n",
       "0  75.0        0                       582         0                 20   \n",
       "1  55.0        0                      7861         0                 38   \n",
       "2  65.0        0                       146         0                 20   \n",
       "3  50.0        1                       111         0                 20   \n",
       "4  65.0        1                       160         1                 20   \n",
       "\n",
       "   high_blood_pressure  platelets  serum_creatinine  serum_sodium  sex  \\\n",
       "0                    1  265000.00               1.9           130    1   \n",
       "1                    0  263358.03               1.1           136    1   \n",
       "2                    0  162000.00               1.3           129    1   \n",
       "3                    0  210000.00               1.9           137    1   \n",
       "4                    0  327000.00               2.7           116    0   \n",
       "\n",
       "   smoking  time  DEATH_EVENT  \n",
       "0        0     4            1  \n",
       "1        0     6            1  \n",
       "2        1     7            1  \n",
       "3        0     7            1  \n",
       "4        0     8            1  "
      ]
     },
     "execution_count": 251,
     "metadata": {},
     "output_type": "execute_result"
    }
   ],
   "source": [
    "df.head()"
   ]
  },
  {
   "cell_type": "markdown",
   "metadata": {},
   "source": [
    "## Exploratory Data analysis"
   ]
  },
  {
   "cell_type": "code",
   "execution_count": 252,
   "metadata": {},
   "outputs": [
    {
     "data": {
      "text/plain": [
       "age                         0\n",
       "anaemia                     0\n",
       "creatinine_phosphokinase    0\n",
       "diabetes                    0\n",
       "ejection_fraction           0\n",
       "high_blood_pressure         0\n",
       "platelets                   0\n",
       "serum_creatinine            0\n",
       "serum_sodium                0\n",
       "sex                         0\n",
       "smoking                     0\n",
       "time                        0\n",
       "DEATH_EVENT                 0\n",
       "dtype: int64"
      ]
     },
     "execution_count": 252,
     "metadata": {},
     "output_type": "execute_result"
    }
   ],
   "source": [
    "df.isnull().sum()"
   ]
  },
  {
   "cell_type": "code",
   "execution_count": 253,
   "metadata": {},
   "outputs": [
    {
     "data": {
      "text/plain": [
       "(299, 13)"
      ]
     },
     "execution_count": 253,
     "metadata": {},
     "output_type": "execute_result"
    }
   ],
   "source": [
    "df.shape"
   ]
  },
  {
   "cell_type": "code",
   "execution_count": 254,
   "metadata": {},
   "outputs": [
    {
     "data": {
      "text/html": [
       "<div>\n",
       "<style scoped>\n",
       "    .dataframe tbody tr th:only-of-type {\n",
       "        vertical-align: middle;\n",
       "    }\n",
       "\n",
       "    .dataframe tbody tr th {\n",
       "        vertical-align: top;\n",
       "    }\n",
       "\n",
       "    .dataframe thead th {\n",
       "        text-align: right;\n",
       "    }\n",
       "</style>\n",
       "<table border=\"1\" class=\"dataframe\">\n",
       "  <thead>\n",
       "    <tr style=\"text-align: right;\">\n",
       "      <th></th>\n",
       "      <th>age</th>\n",
       "      <th>anaemia</th>\n",
       "      <th>creatinine_phosphokinase</th>\n",
       "      <th>diabetes</th>\n",
       "      <th>ejection_fraction</th>\n",
       "      <th>high_blood_pressure</th>\n",
       "      <th>platelets</th>\n",
       "      <th>serum_creatinine</th>\n",
       "      <th>serum_sodium</th>\n",
       "      <th>sex</th>\n",
       "      <th>smoking</th>\n",
       "      <th>time</th>\n",
       "      <th>DEATH_EVENT</th>\n",
       "    </tr>\n",
       "  </thead>\n",
       "  <tbody>\n",
       "    <tr>\n",
       "      <th>count</th>\n",
       "      <td>299.000000</td>\n",
       "      <td>299.000000</td>\n",
       "      <td>299.000000</td>\n",
       "      <td>299.000000</td>\n",
       "      <td>299.000000</td>\n",
       "      <td>299.000000</td>\n",
       "      <td>299.000000</td>\n",
       "      <td>299.00000</td>\n",
       "      <td>299.000000</td>\n",
       "      <td>299.000000</td>\n",
       "      <td>299.00000</td>\n",
       "      <td>299.000000</td>\n",
       "      <td>299.00000</td>\n",
       "    </tr>\n",
       "    <tr>\n",
       "      <th>mean</th>\n",
       "      <td>60.833893</td>\n",
       "      <td>0.431438</td>\n",
       "      <td>581.839465</td>\n",
       "      <td>0.418060</td>\n",
       "      <td>38.083612</td>\n",
       "      <td>0.351171</td>\n",
       "      <td>263358.029264</td>\n",
       "      <td>1.39388</td>\n",
       "      <td>136.625418</td>\n",
       "      <td>0.648829</td>\n",
       "      <td>0.32107</td>\n",
       "      <td>130.260870</td>\n",
       "      <td>0.32107</td>\n",
       "    </tr>\n",
       "    <tr>\n",
       "      <th>std</th>\n",
       "      <td>11.894809</td>\n",
       "      <td>0.496107</td>\n",
       "      <td>970.287881</td>\n",
       "      <td>0.494067</td>\n",
       "      <td>11.834841</td>\n",
       "      <td>0.478136</td>\n",
       "      <td>97804.236869</td>\n",
       "      <td>1.03451</td>\n",
       "      <td>4.412477</td>\n",
       "      <td>0.478136</td>\n",
       "      <td>0.46767</td>\n",
       "      <td>77.614208</td>\n",
       "      <td>0.46767</td>\n",
       "    </tr>\n",
       "    <tr>\n",
       "      <th>min</th>\n",
       "      <td>40.000000</td>\n",
       "      <td>0.000000</td>\n",
       "      <td>23.000000</td>\n",
       "      <td>0.000000</td>\n",
       "      <td>14.000000</td>\n",
       "      <td>0.000000</td>\n",
       "      <td>25100.000000</td>\n",
       "      <td>0.50000</td>\n",
       "      <td>113.000000</td>\n",
       "      <td>0.000000</td>\n",
       "      <td>0.00000</td>\n",
       "      <td>4.000000</td>\n",
       "      <td>0.00000</td>\n",
       "    </tr>\n",
       "    <tr>\n",
       "      <th>25%</th>\n",
       "      <td>51.000000</td>\n",
       "      <td>0.000000</td>\n",
       "      <td>116.500000</td>\n",
       "      <td>0.000000</td>\n",
       "      <td>30.000000</td>\n",
       "      <td>0.000000</td>\n",
       "      <td>212500.000000</td>\n",
       "      <td>0.90000</td>\n",
       "      <td>134.000000</td>\n",
       "      <td>0.000000</td>\n",
       "      <td>0.00000</td>\n",
       "      <td>73.000000</td>\n",
       "      <td>0.00000</td>\n",
       "    </tr>\n",
       "    <tr>\n",
       "      <th>50%</th>\n",
       "      <td>60.000000</td>\n",
       "      <td>0.000000</td>\n",
       "      <td>250.000000</td>\n",
       "      <td>0.000000</td>\n",
       "      <td>38.000000</td>\n",
       "      <td>0.000000</td>\n",
       "      <td>262000.000000</td>\n",
       "      <td>1.10000</td>\n",
       "      <td>137.000000</td>\n",
       "      <td>1.000000</td>\n",
       "      <td>0.00000</td>\n",
       "      <td>115.000000</td>\n",
       "      <td>0.00000</td>\n",
       "    </tr>\n",
       "    <tr>\n",
       "      <th>75%</th>\n",
       "      <td>70.000000</td>\n",
       "      <td>1.000000</td>\n",
       "      <td>582.000000</td>\n",
       "      <td>1.000000</td>\n",
       "      <td>45.000000</td>\n",
       "      <td>1.000000</td>\n",
       "      <td>303500.000000</td>\n",
       "      <td>1.40000</td>\n",
       "      <td>140.000000</td>\n",
       "      <td>1.000000</td>\n",
       "      <td>1.00000</td>\n",
       "      <td>203.000000</td>\n",
       "      <td>1.00000</td>\n",
       "    </tr>\n",
       "    <tr>\n",
       "      <th>max</th>\n",
       "      <td>95.000000</td>\n",
       "      <td>1.000000</td>\n",
       "      <td>7861.000000</td>\n",
       "      <td>1.000000</td>\n",
       "      <td>80.000000</td>\n",
       "      <td>1.000000</td>\n",
       "      <td>850000.000000</td>\n",
       "      <td>9.40000</td>\n",
       "      <td>148.000000</td>\n",
       "      <td>1.000000</td>\n",
       "      <td>1.00000</td>\n",
       "      <td>285.000000</td>\n",
       "      <td>1.00000</td>\n",
       "    </tr>\n",
       "  </tbody>\n",
       "</table>\n",
       "</div>"
      ],
      "text/plain": [
       "              age     anaemia  creatinine_phosphokinase    diabetes  \\\n",
       "count  299.000000  299.000000                299.000000  299.000000   \n",
       "mean    60.833893    0.431438                581.839465    0.418060   \n",
       "std     11.894809    0.496107                970.287881    0.494067   \n",
       "min     40.000000    0.000000                 23.000000    0.000000   \n",
       "25%     51.000000    0.000000                116.500000    0.000000   \n",
       "50%     60.000000    0.000000                250.000000    0.000000   \n",
       "75%     70.000000    1.000000                582.000000    1.000000   \n",
       "max     95.000000    1.000000               7861.000000    1.000000   \n",
       "\n",
       "       ejection_fraction  high_blood_pressure      platelets  \\\n",
       "count         299.000000           299.000000     299.000000   \n",
       "mean           38.083612             0.351171  263358.029264   \n",
       "std            11.834841             0.478136   97804.236869   \n",
       "min            14.000000             0.000000   25100.000000   \n",
       "25%            30.000000             0.000000  212500.000000   \n",
       "50%            38.000000             0.000000  262000.000000   \n",
       "75%            45.000000             1.000000  303500.000000   \n",
       "max            80.000000             1.000000  850000.000000   \n",
       "\n",
       "       serum_creatinine  serum_sodium         sex    smoking        time  \\\n",
       "count         299.00000    299.000000  299.000000  299.00000  299.000000   \n",
       "mean            1.39388    136.625418    0.648829    0.32107  130.260870   \n",
       "std             1.03451      4.412477    0.478136    0.46767   77.614208   \n",
       "min             0.50000    113.000000    0.000000    0.00000    4.000000   \n",
       "25%             0.90000    134.000000    0.000000    0.00000   73.000000   \n",
       "50%             1.10000    137.000000    1.000000    0.00000  115.000000   \n",
       "75%             1.40000    140.000000    1.000000    1.00000  203.000000   \n",
       "max             9.40000    148.000000    1.000000    1.00000  285.000000   \n",
       "\n",
       "       DEATH_EVENT  \n",
       "count    299.00000  \n",
       "mean       0.32107  \n",
       "std        0.46767  \n",
       "min        0.00000  \n",
       "25%        0.00000  \n",
       "50%        0.00000  \n",
       "75%        1.00000  \n",
       "max        1.00000  "
      ]
     },
     "execution_count": 254,
     "metadata": {},
     "output_type": "execute_result"
    }
   ],
   "source": [
    "df.describe()"
   ]
  },
  {
   "cell_type": "code",
   "execution_count": 255,
   "metadata": {},
   "outputs": [
    {
     "data": {
      "text/plain": [
       "0    203\n",
       "1     96\n",
       "Name: DEATH_EVENT, dtype: int64"
      ]
     },
     "execution_count": 255,
     "metadata": {},
     "output_type": "execute_result"
    }
   ],
   "source": [
    "df['DEATH_EVENT'].value_counts()"
   ]
  },
  {
   "cell_type": "code",
   "execution_count": 256,
   "metadata": {},
   "outputs": [
    {
     "data": {
      "image/png": "[encoded data removed]",
      "text/plain": [
       "<Figure size 432x288 with 1 Axes>"
      ]
     },
     "metadata": {
      "needs_background": "light"
     },
     "output_type": "display_data"
    }
   ],
   "source": [
    "cp=sns.countplot(df['DEATH_EVENT'])\n",
    "cp.set_xticklabels(['Survived','Dead'])\n",
    "plt.show()"
   ]
  },
  {
   "cell_type": "code",
   "execution_count": 257,
   "metadata": {},
   "outputs": [
    {
     "data": {
      "text/html": [
       "<div>\n",
       "<style scoped>\n",
       "    .dataframe tbody tr th:only-of-type {\n",
       "        vertical-align: middle;\n",
       "    }\n",
       "\n",
       "    .dataframe tbody tr th {\n",
       "        vertical-align: top;\n",
       "    }\n",
       "\n",
       "    .dataframe thead th {\n",
       "        text-align: right;\n",
       "    }\n",
       "</style>\n",
       "<table border=\"1\" class=\"dataframe\">\n",
       "  <thead>\n",
       "    <tr style=\"text-align: right;\">\n",
       "      <th></th>\n",
       "      <th>age</th>\n",
       "      <th>anaemia</th>\n",
       "      <th>creatinine_phosphokinase</th>\n",
       "      <th>diabetes</th>\n",
       "      <th>ejection_fraction</th>\n",
       "      <th>high_blood_pressure</th>\n",
       "      <th>platelets</th>\n",
       "      <th>serum_creatinine</th>\n",
       "      <th>serum_sodium</th>\n",
       "      <th>sex</th>\n",
       "      <th>smoking</th>\n",
       "      <th>time</th>\n",
       "      <th>DEATH_EVENT</th>\n",
       "    </tr>\n",
       "  </thead>\n",
       "  <tbody>\n",
       "    <tr>\n",
       "      <th>age</th>\n",
       "      <td>1.000000</td>\n",
       "      <td>0.088006</td>\n",
       "      <td>-0.081584</td>\n",
       "      <td>-0.101012</td>\n",
       "      <td>0.060098</td>\n",
       "      <td>0.093289</td>\n",
       "      <td>-0.052354</td>\n",
       "      <td>0.159187</td>\n",
       "      <td>-0.045966</td>\n",
       "      <td>0.065430</td>\n",
       "      <td>0.018668</td>\n",
       "      <td>-0.224068</td>\n",
       "      <td>0.253729</td>\n",
       "    </tr>\n",
       "    <tr>\n",
       "      <th>anaemia</th>\n",
       "      <td>0.088006</td>\n",
       "      <td>1.000000</td>\n",
       "      <td>-0.190741</td>\n",
       "      <td>-0.012729</td>\n",
       "      <td>0.031557</td>\n",
       "      <td>0.038182</td>\n",
       "      <td>-0.043786</td>\n",
       "      <td>0.052174</td>\n",
       "      <td>0.041882</td>\n",
       "      <td>-0.094769</td>\n",
       "      <td>-0.107290</td>\n",
       "      <td>-0.141414</td>\n",
       "      <td>0.066270</td>\n",
       "    </tr>\n",
       "    <tr>\n",
       "      <th>creatinine_phosphokinase</th>\n",
       "      <td>-0.081584</td>\n",
       "      <td>-0.190741</td>\n",
       "      <td>1.000000</td>\n",
       "      <td>-0.009639</td>\n",
       "      <td>-0.044080</td>\n",
       "      <td>-0.070590</td>\n",
       "      <td>0.024463</td>\n",
       "      <td>-0.016408</td>\n",
       "      <td>0.059550</td>\n",
       "      <td>0.079791</td>\n",
       "      <td>0.002421</td>\n",
       "      <td>-0.009346</td>\n",
       "      <td>0.062728</td>\n",
       "    </tr>\n",
       "    <tr>\n",
       "      <th>diabetes</th>\n",
       "      <td>-0.101012</td>\n",
       "      <td>-0.012729</td>\n",
       "      <td>-0.009639</td>\n",
       "      <td>1.000000</td>\n",
       "      <td>-0.004850</td>\n",
       "      <td>-0.012732</td>\n",
       "      <td>0.092193</td>\n",
       "      <td>-0.046975</td>\n",
       "      <td>-0.089551</td>\n",
       "      <td>-0.157730</td>\n",
       "      <td>-0.147173</td>\n",
       "      <td>0.033726</td>\n",
       "      <td>-0.001943</td>\n",
       "    </tr>\n",
       "    <tr>\n",
       "      <th>ejection_fraction</th>\n",
       "      <td>0.060098</td>\n",
       "      <td>0.031557</td>\n",
       "      <td>-0.044080</td>\n",
       "      <td>-0.004850</td>\n",
       "      <td>1.000000</td>\n",
       "      <td>0.024445</td>\n",
       "      <td>0.072177</td>\n",
       "      <td>-0.011302</td>\n",
       "      <td>0.175902</td>\n",
       "      <td>-0.148386</td>\n",
       "      <td>-0.067315</td>\n",
       "      <td>0.041729</td>\n",
       "      <td>-0.268603</td>\n",
       "    </tr>\n",
       "    <tr>\n",
       "      <th>high_blood_pressure</th>\n",
       "      <td>0.093289</td>\n",
       "      <td>0.038182</td>\n",
       "      <td>-0.070590</td>\n",
       "      <td>-0.012732</td>\n",
       "      <td>0.024445</td>\n",
       "      <td>1.000000</td>\n",
       "      <td>0.049963</td>\n",
       "      <td>-0.004935</td>\n",
       "      <td>0.037109</td>\n",
       "      <td>-0.104615</td>\n",
       "      <td>-0.055711</td>\n",
       "      <td>-0.196439</td>\n",
       "      <td>0.079351</td>\n",
       "    </tr>\n",
       "    <tr>\n",
       "      <th>platelets</th>\n",
       "      <td>-0.052354</td>\n",
       "      <td>-0.043786</td>\n",
       "      <td>0.024463</td>\n",
       "      <td>0.092193</td>\n",
       "      <td>0.072177</td>\n",
       "      <td>0.049963</td>\n",
       "      <td>1.000000</td>\n",
       "      <td>-0.041198</td>\n",
       "      <td>0.062125</td>\n",
       "      <td>-0.125120</td>\n",
       "      <td>0.028234</td>\n",
       "      <td>0.010514</td>\n",
       "      <td>-0.049139</td>\n",
       "    </tr>\n",
       "    <tr>\n",
       "      <th>serum_creatinine</th>\n",
       "      <td>0.159187</td>\n",
       "      <td>0.052174</td>\n",
       "      <td>-0.016408</td>\n",
       "      <td>-0.046975</td>\n",
       "      <td>-0.011302</td>\n",
       "      <td>-0.004935</td>\n",
       "      <td>-0.041198</td>\n",
       "      <td>1.000000</td>\n",
       "      <td>-0.189095</td>\n",
       "      <td>0.006970</td>\n",
       "      <td>-0.027414</td>\n",
       "      <td>-0.149315</td>\n",
       "      <td>0.294278</td>\n",
       "    </tr>\n",
       "    <tr>\n",
       "      <th>serum_sodium</th>\n",
       "      <td>-0.045966</td>\n",
       "      <td>0.041882</td>\n",
       "      <td>0.059550</td>\n",
       "      <td>-0.089551</td>\n",
       "      <td>0.175902</td>\n",
       "      <td>0.037109</td>\n",
       "      <td>0.062125</td>\n",
       "      <td>-0.189095</td>\n",
       "      <td>1.000000</td>\n",
       "      <td>-0.027566</td>\n",
       "      <td>0.004813</td>\n",
       "      <td>0.087640</td>\n",
       "      <td>-0.195204</td>\n",
       "    </tr>\n",
       "    <tr>\n",
       "      <th>sex</th>\n",
       "      <td>0.065430</td>\n",
       "      <td>-0.094769</td>\n",
       "      <td>0.079791</td>\n",
       "      <td>-0.157730</td>\n",
       "      <td>-0.148386</td>\n",
       "      <td>-0.104615</td>\n",
       "      <td>-0.125120</td>\n",
       "      <td>0.006970</td>\n",
       "      <td>-0.027566</td>\n",
       "      <td>1.000000</td>\n",
       "      <td>0.445892</td>\n",
       "      <td>-0.015608</td>\n",
       "      <td>-0.004316</td>\n",
       "    </tr>\n",
       "    <tr>\n",
       "      <th>smoking</th>\n",
       "      <td>0.018668</td>\n",
       "      <td>-0.107290</td>\n",
       "      <td>0.002421</td>\n",
       "      <td>-0.147173</td>\n",
       "      <td>-0.067315</td>\n",
       "      <td>-0.055711</td>\n",
       "      <td>0.028234</td>\n",
       "      <td>-0.027414</td>\n",
       "      <td>0.004813</td>\n",
       "      <td>0.445892</td>\n",
       "      <td>1.000000</td>\n",
       "      <td>-0.022839</td>\n",
       "      <td>-0.012623</td>\n",
       "    </tr>\n",
       "    <tr>\n",
       "      <th>time</th>\n",
       "      <td>-0.224068</td>\n",
       "      <td>-0.141414</td>\n",
       "      <td>-0.009346</td>\n",
       "      <td>0.033726</td>\n",
       "      <td>0.041729</td>\n",
       "      <td>-0.196439</td>\n",
       "      <td>0.010514</td>\n",
       "      <td>-0.149315</td>\n",
       "      <td>0.087640</td>\n",
       "      <td>-0.015608</td>\n",
       "      <td>-0.022839</td>\n",
       "      <td>1.000000</td>\n",
       "      <td>-0.526964</td>\n",
       "    </tr>\n",
       "    <tr>\n",
       "      <th>DEATH_EVENT</th>\n",
       "      <td>0.253729</td>\n",
       "      <td>0.066270</td>\n",
       "      <td>0.062728</td>\n",
       "      <td>-0.001943</td>\n",
       "      <td>-0.268603</td>\n",
       "      <td>0.079351</td>\n",
       "      <td>-0.049139</td>\n",
       "      <td>0.294278</td>\n",
       "      <td>-0.195204</td>\n",
       "      <td>-0.004316</td>\n",
       "      <td>-0.012623</td>\n",
       "      <td>-0.526964</td>\n",
       "      <td>1.000000</td>\n",
       "    </tr>\n",
       "  </tbody>\n",
       "</table>\n",
       "</div>"
      ],
      "text/plain": [
       "                               age   anaemia  creatinine_phosphokinase  \\\n",
       "age                       1.000000  0.088006                 -0.081584   \n",
       "anaemia                   0.088006  1.000000                 -0.190741   \n",
       "creatinine_phosphokinase -0.081584 -0.190741                  1.000000   \n",
       "diabetes                 -0.101012 -0.012729                 -0.009639   \n",
       "ejection_fraction         0.060098  0.031557                 -0.044080   \n",
       "high_blood_pressure       0.093289  0.038182                 -0.070590   \n",
       "platelets                -0.052354 -0.043786                  0.024463   \n",
       "serum_creatinine          0.159187  0.052174                 -0.016408   \n",
       "serum_sodium             -0.045966  0.041882                  0.059550   \n",
       "sex                       0.065430 -0.094769                  0.079791   \n",
       "smoking                   0.018668 -0.107290                  0.002421   \n",
       "time                     -0.224068 -0.141414                 -0.009346   \n",
       "DEATH_EVENT               0.253729  0.066270                  0.062728   \n",
       "\n",
       "                          diabetes  ejection_fraction  high_blood_pressure  \\\n",
       "age                      -0.101012           0.060098             0.093289   \n",
       "anaemia                  -0.012729           0.031557             0.038182   \n",
       "creatinine_phosphokinase -0.009639          -0.044080            -0.070590   \n",
       "diabetes                  1.000000          -0.004850            -0.012732   \n",
       "ejection_fraction        -0.004850           1.000000             0.024445   \n",
       "high_blood_pressure      -0.012732           0.024445             1.000000   \n",
       "platelets                 0.092193           0.072177             0.049963   \n",
       "serum_creatinine         -0.046975          -0.011302            -0.004935   \n",
       "serum_sodium             -0.089551           0.175902             0.037109   \n",
       "sex                      -0.157730          -0.148386            -0.104615   \n",
       "smoking                  -0.147173          -0.067315            -0.055711   \n",
       "time                      0.033726           0.041729            -0.196439   \n",
       "DEATH_EVENT              -0.001943          -0.268603             0.079351   \n",
       "\n",
       "                          platelets  serum_creatinine  serum_sodium       sex  \\\n",
       "age                       -0.052354          0.159187     -0.045966  0.065430   \n",
       "anaemia                   -0.043786          0.052174      0.041882 -0.094769   \n",
       "creatinine_phosphokinase   0.024463         -0.016408      0.059550  0.079791   \n",
       "diabetes                   0.092193         -0.046975     -0.089551 -0.157730   \n",
       "ejection_fraction          0.072177         -0.011302      0.175902 -0.148386   \n",
       "high_blood_pressure        0.049963         -0.004935      0.037109 -0.104615   \n",
       "platelets                  1.000000         -0.041198      0.062125 -0.125120   \n",
       "serum_creatinine          -0.041198          1.000000     -0.189095  0.006970   \n",
       "serum_sodium               0.062125         -0.189095      1.000000 -0.027566   \n",
       "sex                       -0.125120          0.006970     -0.027566  1.000000   \n",
       "smoking                    0.028234         -0.027414      0.004813  0.445892   \n",
       "time                       0.010514         -0.149315      0.087640 -0.015608   \n",
       "DEATH_EVENT               -0.049139          0.294278     -0.195204 -0.004316   \n",
       "\n",
       "                           smoking      time  DEATH_EVENT  \n",
       "age                       0.018668 -0.224068     0.253729  \n",
       "anaemia                  -0.107290 -0.141414     0.066270  \n",
       "creatinine_phosphokinase  0.002421 -0.009346     0.062728  \n",
       "diabetes                 -0.147173  0.033726    -0.001943  \n",
       "ejection_fraction        -0.067315  0.041729    -0.268603  \n",
       "high_blood_pressure      -0.055711 -0.196439     0.079351  \n",
       "platelets                 0.028234  0.010514    -0.049139  \n",
       "serum_creatinine         -0.027414 -0.149315     0.294278  \n",
       "serum_sodium              0.004813  0.087640    -0.195204  \n",
       "sex                       0.445892 -0.015608    -0.004316  \n",
       "smoking                   1.000000 -0.022839    -0.012623  \n",
       "time                     -0.022839  1.000000    -0.526964  \n",
       "DEATH_EVENT              -0.012623 -0.526964     1.000000  "
      ]
     },
     "execution_count": 257,
     "metadata": {},
     "output_type": "execute_result"
    }
   ],
   "source": [
    "df.corr()"
   ]
  },
  {
   "cell_type": "code",
   "execution_count": 258,
   "metadata": {},
   "outputs": [
    {
     "data": {
      "text/plain": [
       "age                         float64\n",
       "anaemia                       int64\n",
       "creatinine_phosphokinase      int64\n",
       "diabetes                      int64\n",
       "ejection_fraction             int64\n",
       "high_blood_pressure           int64\n",
       "platelets                   float64\n",
       "serum_creatinine            float64\n",
       "serum_sodium                  int64\n",
       "sex                           int64\n",
       "smoking                       int64\n",
       "time                          int64\n",
       "DEATH_EVENT                   int64\n",
       "dtype: object"
      ]
     },
     "execution_count": 258,
     "metadata": {},
     "output_type": "execute_result"
    }
   ],
   "source": [
    "df.dtypes"
   ]
  },
  {
   "cell_type": "code",
   "execution_count": 259,
   "metadata": {},
   "outputs": [
    {
     "data": {
      "text/plain": [
       "<matplotlib.axes._subplots.AxesSubplot at 0x1ba5dd18340>"
      ]
     },
     "execution_count": 259,
     "metadata": {},
     "output_type": "execute_result"
    },
    {
     "data": {
      "image/png": "[encoded data removed]",
      "text/plain": [
       "<Figure size 432x288 with 1 Axes>"
      ]
     },
     "metadata": {
      "needs_background": "light"
     },
     "output_type": "display_data"
    }
   ],
   "source": [
    "sns.boxplot(x='DEATH_EVENT',y='serum_creatinine',data=df) #Levels of serum_creatinine wrt Death"
   ]
  },
  {
   "cell_type": "code",
   "execution_count": 260,
   "metadata": {},
   "outputs": [
    {
     "data": {
      "text/plain": [
       "<matplotlib.axes._subplots.AxesSubplot at 0x1ba5dd67c10>"
      ]
     },
     "execution_count": 260,
     "metadata": {},
     "output_type": "execute_result"
    },
    {
     "data": {
      "image/png": "[encoded data removed]",
      "text/plain": [
       "<Figure size 432x288 with 1 Axes>"
      ]
     },
     "metadata": {
      "needs_background": "light"
     },
     "output_type": "display_data"
    }
   ],
   "source": [
    "sns.boxplot(x='DEATH_EVENT',y='ejection_fraction',data=df) #Percent of ejection_fraction wrt Death"
   ]
  },
  {
   "cell_type": "code",
   "execution_count": 261,
   "metadata": {},
   "outputs": [
    {
     "data": {
      "text/plain": [
       "<matplotlib.axes._subplots.AxesSubplot at 0x1ba5ddc2b80>"
      ]
     },
     "execution_count": 261,
     "metadata": {},
     "output_type": "execute_result"
    },
    {
     "data": {
      "image/png": "[encoded data removed]",
      "text/plain": [
       "<Figure size 432x288 with 1 Axes>"
      ]
     },
     "metadata": {
      "needs_background": "light"
     },
     "output_type": "display_data"
    }
   ],
   "source": [
    "sns.boxplot(x='DEATH_EVENT',y='time',data=df) #Follow up period wrt Death"
   ]
  },
  {
   "cell_type": "code",
   "execution_count": 262,
   "metadata": {},
   "outputs": [
    {
     "data": {
      "text/plain": [
       "<matplotlib.axes._subplots.AxesSubplot at 0x1ba5de3c070>"
      ]
     },
     "execution_count": 262,
     "metadata": {},
     "output_type": "execute_result"
    },
    {
     "data": {
      "image/png": "[encoded data removed]",
      "text/plain": [
       "<Figure size 432x288 with 1 Axes>"
      ]
     },
     "metadata": {
      "needs_background": "light"
     },
     "output_type": "display_data"
    }
   ],
   "source": [
    "sns.boxplot(x='DEATH_EVENT',y='serum_creatinine',hue='anaemia',data=df) #Levels of serum creatinine wrt anaemia and death"
   ]
  },
  {
   "cell_type": "code",
   "execution_count": 263,
   "metadata": {},
   "outputs": [
    {
     "data": {
      "text/plain": [
       "<matplotlib.axes._subplots.AxesSubplot at 0x1ba5dd79400>"
      ]
     },
     "execution_count": 263,
     "metadata": {},
     "output_type": "execute_result"
    },
    {
     "data": {
      "image/png": "[encoded data removed]",
      "text/plain": [
       "<Figure size 432x288 with 1 Axes>"
      ]
     },
     "metadata": {
      "needs_background": "light"
     },
     "output_type": "display_data"
    }
   ],
   "source": [
    "sns.boxplot(x='DEATH_EVENT',y='serum_creatinine',hue='diabetes',data=df) #Levels of serum creatinine wrt diabetes and death"
   ]
  },
  {
   "cell_type": "code",
   "execution_count": 264,
   "metadata": {},
   "outputs": [
    {
     "data": {
      "text/plain": [
       "<matplotlib.axes._subplots.AxesSubplot at 0x1ba5ef2e520>"
      ]
     },
     "execution_count": 264,
     "metadata": {},
     "output_type": "execute_result"
    },
    {
     "data": {
      "image/png": "[encoded data removed]",
      "text/plain": [
       "<Figure size 432x288 with 1 Axes>"
      ]
     },
     "metadata": {
      "needs_background": "light"
     },
     "output_type": "display_data"
    }
   ],
   "source": [
    "sns.boxplot(x='DEATH_EVENT',y='serum_creatinine',hue='high_blood_pressure',data=df) #Levels of serum creatinine wrt high bp and death"
   ]
  },
  {
   "cell_type": "code",
   "execution_count": 265,
   "metadata": {},
   "outputs": [
    {
     "data": {
      "text/plain": [
       "<matplotlib.axes._subplots.AxesSubplot at 0x1ba5efb7730>"
      ]
     },
     "execution_count": 265,
     "metadata": {},
     "output_type": "execute_result"
    },
    {
     "data": {
      "image/png": "[encoded data removed]",
      "text/plain": [
       "<Figure size 432x288 with 1 Axes>"
      ]
     },
     "metadata": {
      "needs_background": "light"
     },
     "output_type": "display_data"
    }
   ],
   "source": [
    "sns.boxplot(x='DEATH_EVENT',y='serum_creatinine',hue='sex',data=df) #Levels of serum creatine wrt sex and death"
   ]
  },
  {
   "cell_type": "code",
   "execution_count": 266,
   "metadata": {},
   "outputs": [
    {
     "data": {
      "text/plain": [
       "<matplotlib.axes._subplots.AxesSubplot at 0x1ba5f04eac0>"
      ]
     },
     "execution_count": 266,
     "metadata": {},
     "output_type": "execute_result"
    },
    {
     "data": {
      "image/png": "[encoded data removed]",
      "text/plain": [
       "<Figure size 432x288 with 1 Axes>"
      ]
     },
     "metadata": {
      "needs_background": "light"
     },
     "output_type": "display_data"
    }
   ],
   "source": [
    "sns.boxplot(x='DEATH_EVENT',y='serum_creatinine',hue='smoking',data=df) #Levels of serum creatinine wrt smoking and death "
   ]
  },
  {
   "cell_type": "code",
   "execution_count": 267,
   "metadata": {},
   "outputs": [
    {
     "data": {
      "text/plain": [
       "<matplotlib.axes._subplots.AxesSubplot at 0x1ba5f0ef8e0>"
      ]
     },
     "execution_count": 267,
     "metadata": {},
     "output_type": "execute_result"
    },
    {
     "data": {
      "image/png": "[encoded data removed]",
      "text/plain": [
       "<Figure size 432x288 with 1 Axes>"
      ]
     },
     "metadata": {
      "needs_background": "light"
     },
     "output_type": "display_data"
    }
   ],
   "source": [
    "sns.boxplot(x='DEATH_EVENT',y='ejection_fraction',hue='anaemia',data=df) #Ejection fraction wrt anaemia and death"
   ]
  },
  {
   "cell_type": "code",
   "execution_count": 268,
   "metadata": {},
   "outputs": [
    {
     "data": {
      "text/plain": [
       "<matplotlib.axes._subplots.AxesSubplot at 0x1ba5f18b430>"
      ]
     },
     "execution_count": 268,
     "metadata": {},
     "output_type": "execute_result"
    },
    {
     "data": {
      "image/png": "[encoded data removed]",
      "text/plain": [
       "<Figure size 432x288 with 1 Axes>"
      ]
     },
     "metadata": {
      "needs_background": "light"
     },
     "output_type": "display_data"
    }
   ],
   "source": [
    "sns.boxplot(x='DEATH_EVENT',y='ejection_fraction',hue='diabetes',data=df) #Ejection fraction wrt diabetes and death"
   ]
  },
  {
   "cell_type": "code",
   "execution_count": 269,
   "metadata": {},
   "outputs": [
    {
     "data": {
      "text/plain": [
       "<matplotlib.axes._subplots.AxesSubplot at 0x1ba5f0d7700>"
      ]
     },
     "execution_count": 269,
     "metadata": {},
     "output_type": "execute_result"
    },
    {
     "data": {
      "image/png": "[encoded data removed]",
      "text/plain": [
       "<Figure size 432x288 with 1 Axes>"
      ]
     },
     "metadata": {
      "needs_background": "light"
     },
     "output_type": "display_data"
    }
   ],
   "source": [
    "sns.boxplot(x='DEATH_EVENT',y='ejection_fraction',hue='high_blood_pressure',data=df) #Ejection fraction wrt high bp and death"
   ]
  },
  {
   "cell_type": "code",
   "execution_count": 270,
   "metadata": {},
   "outputs": [
    {
     "data": {
      "text/plain": [
       "<matplotlib.axes._subplots.AxesSubplot at 0x1ba5f2c2640>"
      ]
     },
     "execution_count": 270,
     "metadata": {},
     "output_type": "execute_result"
    },
    {
     "data": {
      "image/png": "[encoded data removed]",
      "text/plain": [
       "<Figure size 432x288 with 1 Axes>"
      ]
     },
     "metadata": {
      "needs_background": "light"
     },
     "output_type": "display_data"
    }
   ],
   "source": [
    "sns.boxplot(x='DEATH_EVENT',y='ejection_fraction',hue='sex',data=df) #Ejection fraction wrt sex and death"
   ]
  },
  {
   "cell_type": "code",
   "execution_count": 271,
   "metadata": {},
   "outputs": [
    {
     "data": {
      "text/plain": [
       "<matplotlib.axes._subplots.AxesSubplot at 0x1ba5d8e9be0>"
      ]
     },
     "execution_count": 271,
     "metadata": {},
     "output_type": "execute_result"
    },
    {
     "data": {
      "image/png": "[encoded data removed]",
      "text/plain": [
       "<Figure size 432x288 with 1 Axes>"
      ]
     },
     "metadata": {
      "needs_background": "light"
     },
     "output_type": "display_data"
    }
   ],
   "source": [
    "sns.boxplot(x='DEATH_EVENT',y='ejection_fraction',hue='smoking',data=df) #Ejection fraction wrt smoking and death"
   ]
  },
  {
   "cell_type": "code",
   "execution_count": 272,
   "metadata": {},
   "outputs": [
    {
     "data": {
      "text/plain": [
       "<matplotlib.axes._subplots.AxesSubplot at 0x1ba5bf30f10>"
      ]
     },
     "execution_count": 272,
     "metadata": {},
     "output_type": "execute_result"
    },
    {
     "data": {
      "image/png": "[encoded data removed]",
      "text/plain": [
       "<Figure size 432x288 with 1 Axes>"
      ]
     },
     "metadata": {
      "needs_background": "light"
     },
     "output_type": "display_data"
    }
   ],
   "source": [
    "sns.countplot(x='DEATH_EVENT',hue='anaemia',data=df) #Count of individuals with anaemia wrt death"
   ]
  },
  {
   "cell_type": "code",
   "execution_count": 273,
   "metadata": {},
   "outputs": [
    {
     "data": {
      "text/plain": [
       "<matplotlib.axes._subplots.AxesSubplot at 0x1ba5f448730>"
      ]
     },
     "execution_count": 273,
     "metadata": {},
     "output_type": "execute_result"
    },
    {
     "data": {
      "image/png": "[encoded data removed]",
      "text/plain": [
       "<Figure size 432x288 with 1 Axes>"
      ]
     },
     "metadata": {
      "needs_background": "light"
     },
     "output_type": "display_data"
    }
   ],
   "source": [
    "sns.countplot(x='DEATH_EVENT',hue='diabetes',data=df) #Count of individuals with diabetes wrt death"
   ]
  },
  {
   "cell_type": "code",
   "execution_count": 274,
   "metadata": {},
   "outputs": [
    {
     "data": {
      "text/plain": [
       "<matplotlib.axes._subplots.AxesSubplot at 0x1ba5f49c490>"
      ]
     },
     "execution_count": 274,
     "metadata": {},
     "output_type": "execute_result"
    },
    {
     "data": {
      "image/png": "[encoded data removed]",
      "text/plain": [
       "<Figure size 432x288 with 1 Axes>"
      ]
     },
     "metadata": {
      "needs_background": "light"
     },
     "output_type": "display_data"
    }
   ],
   "source": [
    "sns.countplot(x='DEATH_EVENT',hue='high_blood_pressure',data=df) #Count of individuals with high bp wrt death"
   ]
  },
  {
   "cell_type": "code",
   "execution_count": 275,
   "metadata": {},
   "outputs": [
    {
     "data": {
      "text/plain": [
       "<matplotlib.axes._subplots.AxesSubplot at 0x1ba5f4f66a0>"
      ]
     },
     "execution_count": 275,
     "metadata": {},
     "output_type": "execute_result"
    },
    {
     "data": {
      "image/png": "[encoded data removed]",
      "text/plain": [
       "<Figure size 432x288 with 1 Axes>"
      ]
     },
     "metadata": {
      "needs_background": "light"
     },
     "output_type": "display_data"
    }
   ],
   "source": [
    "sns.countplot(x='DEATH_EVENT',hue='sex',data=df) #Count of individual sexes wrt death"
   ]
  },
  {
   "cell_type": "code",
   "execution_count": 276,
   "metadata": {},
   "outputs": [
    {
     "data": {
      "text/plain": [
       "<matplotlib.axes._subplots.AxesSubplot at 0x1ba5f54c340>"
      ]
     },
     "execution_count": 276,
     "metadata": {},
     "output_type": "execute_result"
    },
    {
     "data": {
      "image/png": "[encoded data removed]",
      "text/plain": [
       "<Figure size 432x288 with 1 Axes>"
      ]
     },
     "metadata": {
      "needs_background": "light"
     },
     "output_type": "display_data"
    }
   ],
   "source": [
    "sns.countplot(x='DEATH_EVENT',hue='smoking',data=df) #Count of smokers wrt death"
   ]
  },
  {
   "cell_type": "code",
   "execution_count": 277,
   "metadata": {},
   "outputs": [],
   "source": [
    "def age_class(df):\n",
    "    if df<=60:\n",
    "        return 'Old'\n",
    "    else:\n",
    "        return 'Very Old'"
   ]
  },
  {
   "cell_type": "code",
   "execution_count": 278,
   "metadata": {},
   "outputs": [],
   "source": [
    "df['age']=df['age'].apply(age_class)"
   ]
  },
  {
   "cell_type": "code",
   "execution_count": 279,
   "metadata": {},
   "outputs": [
    {
     "data": {
      "text/plain": [
       "<matplotlib.axes._subplots.AxesSubplot at 0x1ba5f5a22e0>"
      ]
     },
     "execution_count": 279,
     "metadata": {},
     "output_type": "execute_result"
    },
    {
     "data": {
      "image/png": "[encoded data removed]",
      "text/plain": [
       "<Figure size 432x288 with 1 Axes>"
      ]
     },
     "metadata": {
      "needs_background": "light"
     },
     "output_type": "display_data"
    }
   ],
   "source": [
    "sns.countplot(x='DEATH_EVENT',hue='age',data=df) #Count of age of individuals wrt death"
   ]
  },
  {
   "cell_type": "code",
   "execution_count": 280,
   "metadata": {},
   "outputs": [
    {
     "data": {
      "text/plain": [
       "<matplotlib.axes._subplots.AxesSubplot at 0x1ba5f5e6100>"
      ]
     },
     "execution_count": 280,
     "metadata": {},
     "output_type": "execute_result"
    },
    {
     "data": {
      "image/png": "[encoded data removed]",
      "text/plain": [
       "<Figure size 432x288 with 1 Axes>"
      ]
     },
     "metadata": {
      "needs_background": "light"
     },
     "output_type": "display_data"
    }
   ],
   "source": [
    "sns.boxplot(x='DEATH_EVENT',y='serum_creatinine',hue='age',data=df) #Levels of serum creatinine wrt age and death"
   ]
  },
  {
   "cell_type": "code",
   "execution_count": 281,
   "metadata": {},
   "outputs": [
    {
     "data": {
      "text/plain": [
       "<matplotlib.axes._subplots.AxesSubplot at 0x1ba5f68b8e0>"
      ]
     },
     "execution_count": 281,
     "metadata": {},
     "output_type": "execute_result"
    },
    {
     "data": {
      "image/png": "[encoded data removed]",
      "text/plain": [
       "<Figure size 432x288 with 1 Axes>"
      ]
     },
     "metadata": {
      "needs_background": "light"
     },
     "output_type": "display_data"
    }
   ],
   "source": [
    "sns.boxplot(x='DEATH_EVENT',y='ejection_fraction',hue='age',data=df) #Percent of ejection fraction wrt age and death"
   ]
  },
  {
   "cell_type": "markdown",
   "metadata": {},
   "source": [
    "## Feature Scaling"
   ]
  },
  {
   "cell_type": "code",
   "execution_count": 282,
   "metadata": {},
   "outputs": [],
   "source": [
    "sc=MinMaxScaler()\n",
    "df['creatinine_phosphokinase']=sc.fit_transform(df[['creatinine_phosphokinase']])\n",
    "df['ejection_fraction']=sc.fit_transform(df[['ejection_fraction']])\n",
    "df['platelets']=sc.fit_transform(df[['platelets']])\n",
    "df['serum_sodium']=sc.fit_transform(df[['serum_sodium']])\n",
    "df['time']=sc.fit_transform(df[['time']])\n",
    "\n",
    "label=LabelEncoder()\n",
    "df['age']=label.fit_transform(df['age'])\n"
   ]
  },
  {
   "cell_type": "code",
   "execution_count": 283,
   "metadata": {},
   "outputs": [
    {
     "data": {
      "text/html": [
       "<div>\n",
       "<style scoped>\n",
       "    .dataframe tbody tr th:only-of-type {\n",
       "        vertical-align: middle;\n",
       "    }\n",
       "\n",
       "    .dataframe tbody tr th {\n",
       "        vertical-align: top;\n",
       "    }\n",
       "\n",
       "    .dataframe thead th {\n",
       "        text-align: right;\n",
       "    }\n",
       "</style>\n",
       "<table border=\"1\" class=\"dataframe\">\n",
       "  <thead>\n",
       "    <tr style=\"text-align: right;\">\n",
       "      <th></th>\n",
       "      <th>age</th>\n",
       "      <th>anaemia</th>\n",
       "      <th>creatinine_phosphokinase</th>\n",
       "      <th>diabetes</th>\n",
       "      <th>ejection_fraction</th>\n",
       "      <th>high_blood_pressure</th>\n",
       "      <th>platelets</th>\n",
       "      <th>serum_creatinine</th>\n",
       "      <th>serum_sodium</th>\n",
       "      <th>sex</th>\n",
       "      <th>smoking</th>\n",
       "      <th>time</th>\n",
       "      <th>DEATH_EVENT</th>\n",
       "    </tr>\n",
       "  </thead>\n",
       "  <tbody>\n",
       "    <tr>\n",
       "      <th>0</th>\n",
       "      <td>1</td>\n",
       "      <td>0</td>\n",
       "      <td>0.071319</td>\n",
       "      <td>0</td>\n",
       "      <td>0.090909</td>\n",
       "      <td>1</td>\n",
       "      <td>0.290823</td>\n",
       "      <td>1.9</td>\n",
       "      <td>0.485714</td>\n",
       "      <td>1</td>\n",
       "      <td>0</td>\n",
       "      <td>0.000000</td>\n",
       "      <td>1</td>\n",
       "    </tr>\n",
       "    <tr>\n",
       "      <th>1</th>\n",
       "      <td>0</td>\n",
       "      <td>0</td>\n",
       "      <td>1.000000</td>\n",
       "      <td>0</td>\n",
       "      <td>0.363636</td>\n",
       "      <td>0</td>\n",
       "      <td>0.288833</td>\n",
       "      <td>1.1</td>\n",
       "      <td>0.657143</td>\n",
       "      <td>1</td>\n",
       "      <td>0</td>\n",
       "      <td>0.007117</td>\n",
       "      <td>1</td>\n",
       "    </tr>\n",
       "    <tr>\n",
       "      <th>2</th>\n",
       "      <td>1</td>\n",
       "      <td>0</td>\n",
       "      <td>0.015693</td>\n",
       "      <td>0</td>\n",
       "      <td>0.090909</td>\n",
       "      <td>0</td>\n",
       "      <td>0.165960</td>\n",
       "      <td>1.3</td>\n",
       "      <td>0.457143</td>\n",
       "      <td>1</td>\n",
       "      <td>1</td>\n",
       "      <td>0.010676</td>\n",
       "      <td>1</td>\n",
       "    </tr>\n",
       "    <tr>\n",
       "      <th>3</th>\n",
       "      <td>0</td>\n",
       "      <td>1</td>\n",
       "      <td>0.011227</td>\n",
       "      <td>0</td>\n",
       "      <td>0.090909</td>\n",
       "      <td>0</td>\n",
       "      <td>0.224148</td>\n",
       "      <td>1.9</td>\n",
       "      <td>0.685714</td>\n",
       "      <td>1</td>\n",
       "      <td>0</td>\n",
       "      <td>0.010676</td>\n",
       "      <td>1</td>\n",
       "    </tr>\n",
       "    <tr>\n",
       "      <th>4</th>\n",
       "      <td>1</td>\n",
       "      <td>1</td>\n",
       "      <td>0.017479</td>\n",
       "      <td>1</td>\n",
       "      <td>0.090909</td>\n",
       "      <td>0</td>\n",
       "      <td>0.365984</td>\n",
       "      <td>2.7</td>\n",
       "      <td>0.085714</td>\n",
       "      <td>0</td>\n",
       "      <td>0</td>\n",
       "      <td>0.014235</td>\n",
       "      <td>1</td>\n",
       "    </tr>\n",
       "  </tbody>\n",
       "</table>\n",
       "</div>"
      ],
      "text/plain": [
       "   age  anaemia  creatinine_phosphokinase  diabetes  ejection_fraction  \\\n",
       "0    1        0                  0.071319         0           0.090909   \n",
       "1    0        0                  1.000000         0           0.363636   \n",
       "2    1        0                  0.015693         0           0.090909   \n",
       "3    0        1                  0.011227         0           0.090909   \n",
       "4    1        1                  0.017479         1           0.090909   \n",
       "\n",
       "   high_blood_pressure  platelets  serum_creatinine  serum_sodium  sex  \\\n",
       "0                    1   0.290823               1.9      0.485714    1   \n",
       "1                    0   0.288833               1.1      0.657143    1   \n",
       "2                    0   0.165960               1.3      0.457143    1   \n",
       "3                    0   0.224148               1.9      0.685714    1   \n",
       "4                    0   0.365984               2.7      0.085714    0   \n",
       "\n",
       "   smoking      time  DEATH_EVENT  \n",
       "0        0  0.000000            1  \n",
       "1        0  0.007117            1  \n",
       "2        1  0.010676            1  \n",
       "3        0  0.010676            1  \n",
       "4        0  0.014235            1  "
      ]
     },
     "execution_count": 283,
     "metadata": {},
     "output_type": "execute_result"
    }
   ],
   "source": [
    "df.head()"
   ]
  },
  {
   "cell_type": "code",
   "execution_count": 284,
   "metadata": {},
   "outputs": [
    {
     "data": {
      "text/html": [
       "<div>\n",
       "<style scoped>\n",
       "    .dataframe tbody tr th:only-of-type {\n",
       "        vertical-align: middle;\n",
       "    }\n",
       "\n",
       "    .dataframe tbody tr th {\n",
       "        vertical-align: top;\n",
       "    }\n",
       "\n",
       "    .dataframe thead th {\n",
       "        text-align: right;\n",
       "    }\n",
       "</style>\n",
       "<table border=\"1\" class=\"dataframe\">\n",
       "  <thead>\n",
       "    <tr style=\"text-align: right;\">\n",
       "      <th></th>\n",
       "      <th>age</th>\n",
       "      <th>anaemia</th>\n",
       "      <th>creatinine_phosphokinase</th>\n",
       "      <th>diabetes</th>\n",
       "      <th>ejection_fraction</th>\n",
       "      <th>high_blood_pressure</th>\n",
       "      <th>platelets</th>\n",
       "      <th>serum_creatinine</th>\n",
       "      <th>serum_sodium</th>\n",
       "      <th>sex</th>\n",
       "      <th>smoking</th>\n",
       "      <th>time</th>\n",
       "    </tr>\n",
       "  </thead>\n",
       "  <tbody>\n",
       "    <tr>\n",
       "      <th>0</th>\n",
       "      <td>1</td>\n",
       "      <td>0</td>\n",
       "      <td>0.071319</td>\n",
       "      <td>0</td>\n",
       "      <td>0.090909</td>\n",
       "      <td>1</td>\n",
       "      <td>0.290823</td>\n",
       "      <td>1.9</td>\n",
       "      <td>0.485714</td>\n",
       "      <td>1</td>\n",
       "      <td>0</td>\n",
       "      <td>0.000000</td>\n",
       "    </tr>\n",
       "    <tr>\n",
       "      <th>1</th>\n",
       "      <td>0</td>\n",
       "      <td>0</td>\n",
       "      <td>1.000000</td>\n",
       "      <td>0</td>\n",
       "      <td>0.363636</td>\n",
       "      <td>0</td>\n",
       "      <td>0.288833</td>\n",
       "      <td>1.1</td>\n",
       "      <td>0.657143</td>\n",
       "      <td>1</td>\n",
       "      <td>0</td>\n",
       "      <td>0.007117</td>\n",
       "    </tr>\n",
       "    <tr>\n",
       "      <th>2</th>\n",
       "      <td>1</td>\n",
       "      <td>0</td>\n",
       "      <td>0.015693</td>\n",
       "      <td>0</td>\n",
       "      <td>0.090909</td>\n",
       "      <td>0</td>\n",
       "      <td>0.165960</td>\n",
       "      <td>1.3</td>\n",
       "      <td>0.457143</td>\n",
       "      <td>1</td>\n",
       "      <td>1</td>\n",
       "      <td>0.010676</td>\n",
       "    </tr>\n",
       "    <tr>\n",
       "      <th>3</th>\n",
       "      <td>0</td>\n",
       "      <td>1</td>\n",
       "      <td>0.011227</td>\n",
       "      <td>0</td>\n",
       "      <td>0.090909</td>\n",
       "      <td>0</td>\n",
       "      <td>0.224148</td>\n",
       "      <td>1.9</td>\n",
       "      <td>0.685714</td>\n",
       "      <td>1</td>\n",
       "      <td>0</td>\n",
       "      <td>0.010676</td>\n",
       "    </tr>\n",
       "    <tr>\n",
       "      <th>4</th>\n",
       "      <td>1</td>\n",
       "      <td>1</td>\n",
       "      <td>0.017479</td>\n",
       "      <td>1</td>\n",
       "      <td>0.090909</td>\n",
       "      <td>0</td>\n",
       "      <td>0.365984</td>\n",
       "      <td>2.7</td>\n",
       "      <td>0.085714</td>\n",
       "      <td>0</td>\n",
       "      <td>0</td>\n",
       "      <td>0.014235</td>\n",
       "    </tr>\n",
       "    <tr>\n",
       "      <th>...</th>\n",
       "      <td>...</td>\n",
       "      <td>...</td>\n",
       "      <td>...</td>\n",
       "      <td>...</td>\n",
       "      <td>...</td>\n",
       "      <td>...</td>\n",
       "      <td>...</td>\n",
       "      <td>...</td>\n",
       "      <td>...</td>\n",
       "      <td>...</td>\n",
       "      <td>...</td>\n",
       "      <td>...</td>\n",
       "    </tr>\n",
       "    <tr>\n",
       "      <th>294</th>\n",
       "      <td>1</td>\n",
       "      <td>0</td>\n",
       "      <td>0.004848</td>\n",
       "      <td>1</td>\n",
       "      <td>0.363636</td>\n",
       "      <td>1</td>\n",
       "      <td>0.157474</td>\n",
       "      <td>1.1</td>\n",
       "      <td>0.857143</td>\n",
       "      <td>1</td>\n",
       "      <td>1</td>\n",
       "      <td>0.946619</td>\n",
       "    </tr>\n",
       "    <tr>\n",
       "      <th>295</th>\n",
       "      <td>0</td>\n",
       "      <td>0</td>\n",
       "      <td>0.229268</td>\n",
       "      <td>0</td>\n",
       "      <td>0.363636</td>\n",
       "      <td>0</td>\n",
       "      <td>0.296884</td>\n",
       "      <td>1.2</td>\n",
       "      <td>0.742857</td>\n",
       "      <td>0</td>\n",
       "      <td>0</td>\n",
       "      <td>0.950178</td>\n",
       "    </tr>\n",
       "    <tr>\n",
       "      <th>296</th>\n",
       "      <td>0</td>\n",
       "      <td>0</td>\n",
       "      <td>0.259888</td>\n",
       "      <td>1</td>\n",
       "      <td>0.696970</td>\n",
       "      <td>0</td>\n",
       "      <td>0.869075</td>\n",
       "      <td>0.8</td>\n",
       "      <td>0.714286</td>\n",
       "      <td>0</td>\n",
       "      <td>0</td>\n",
       "      <td>0.975089</td>\n",
       "    </tr>\n",
       "    <tr>\n",
       "      <th>297</th>\n",
       "      <td>0</td>\n",
       "      <td>0</td>\n",
       "      <td>0.304925</td>\n",
       "      <td>0</td>\n",
       "      <td>0.363636</td>\n",
       "      <td>0</td>\n",
       "      <td>0.139290</td>\n",
       "      <td>1.4</td>\n",
       "      <td>0.771429</td>\n",
       "      <td>1</td>\n",
       "      <td>1</td>\n",
       "      <td>0.982206</td>\n",
       "    </tr>\n",
       "    <tr>\n",
       "      <th>298</th>\n",
       "      <td>0</td>\n",
       "      <td>0</td>\n",
       "      <td>0.022072</td>\n",
       "      <td>0</td>\n",
       "      <td>0.469697</td>\n",
       "      <td>0</td>\n",
       "      <td>0.448418</td>\n",
       "      <td>1.6</td>\n",
       "      <td>0.657143</td>\n",
       "      <td>1</td>\n",
       "      <td>1</td>\n",
       "      <td>1.000000</td>\n",
       "    </tr>\n",
       "  </tbody>\n",
       "</table>\n",
       "<p>299 rows × 12 columns</p>\n",
       "</div>"
      ],
      "text/plain": [
       "     age  anaemia  creatinine_phosphokinase  diabetes  ejection_fraction  \\\n",
       "0      1        0                  0.071319         0           0.090909   \n",
       "1      0        0                  1.000000         0           0.363636   \n",
       "2      1        0                  0.015693         0           0.090909   \n",
       "3      0        1                  0.011227         0           0.090909   \n",
       "4      1        1                  0.017479         1           0.090909   \n",
       "..   ...      ...                       ...       ...                ...   \n",
       "294    1        0                  0.004848         1           0.363636   \n",
       "295    0        0                  0.229268         0           0.363636   \n",
       "296    0        0                  0.259888         1           0.696970   \n",
       "297    0        0                  0.304925         0           0.363636   \n",
       "298    0        0                  0.022072         0           0.469697   \n",
       "\n",
       "     high_blood_pressure  platelets  serum_creatinine  serum_sodium  sex  \\\n",
       "0                      1   0.290823               1.9      0.485714    1   \n",
       "1                      0   0.288833               1.1      0.657143    1   \n",
       "2                      0   0.165960               1.3      0.457143    1   \n",
       "3                      0   0.224148               1.9      0.685714    1   \n",
       "4                      0   0.365984               2.7      0.085714    0   \n",
       "..                   ...        ...               ...           ...  ...   \n",
       "294                    1   0.157474               1.1      0.857143    1   \n",
       "295                    0   0.296884               1.2      0.742857    0   \n",
       "296                    0   0.869075               0.8      0.714286    0   \n",
       "297                    0   0.139290               1.4      0.771429    1   \n",
       "298                    0   0.448418               1.6      0.657143    1   \n",
       "\n",
       "     smoking      time  \n",
       "0          0  0.000000  \n",
       "1          0  0.007117  \n",
       "2          1  0.010676  \n",
       "3          0  0.010676  \n",
       "4          0  0.014235  \n",
       "..       ...       ...  \n",
       "294        1  0.946619  \n",
       "295        0  0.950178  \n",
       "296        0  0.975089  \n",
       "297        1  0.982206  \n",
       "298        1  1.000000  \n",
       "\n",
       "[299 rows x 12 columns]"
      ]
     },
     "execution_count": 284,
     "metadata": {},
     "output_type": "execute_result"
    }
   ],
   "source": [
    "x,y=df.drop(['DEATH_EVENT'],axis=1),df['DEATH_EVENT']\n",
    "x"
   ]
  },
  {
   "cell_type": "code",
   "execution_count": 285,
   "metadata": {},
   "outputs": [
    {
     "data": {
      "text/plain": [
       "0      1\n",
       "1      1\n",
       "2      1\n",
       "3      1\n",
       "4      1\n",
       "      ..\n",
       "294    0\n",
       "295    0\n",
       "296    0\n",
       "297    0\n",
       "298    0\n",
       "Name: DEATH_EVENT, Length: 299, dtype: int64"
      ]
     },
     "execution_count": 285,
     "metadata": {},
     "output_type": "execute_result"
    }
   ],
   "source": [
    "y"
   ]
  },
  {
   "cell_type": "markdown",
   "metadata": {},
   "source": [
    "## Train-Test split"
   ]
  },
  {
   "cell_type": "code",
   "execution_count": 286,
   "metadata": {},
   "outputs": [],
   "source": [
    "x_train,x_test,y_train,y_test=train_test_split(x,y,test_size=0.3)"
   ]
  },
  {
   "cell_type": "code",
   "execution_count": 287,
   "metadata": {},
   "outputs": [
    {
     "name": "stdout",
     "output_type": "stream",
     "text": [
      "Accuracy score is 0.82\n",
      "Precision score is 0.82\n"
     ]
    }
   ],
   "source": [
    "log=LogisticRegression()\n",
    "log.fit(x_train,y_train)\n",
    "log_pred=log.predict(x_test)\n",
    "print('Accuracy score is {:.2f}'.format(accuracy_score(y_test,log_pred)))\n",
    "print('Precision score is {:.2f}'.format(precision_score(y_test,log_pred)))"
   ]
  },
  {
   "cell_type": "code",
   "execution_count": 288,
   "metadata": {},
   "outputs": [
    {
     "data": {
      "text/html": [
       "<div>\n",
       "<style scoped>\n",
       "    .dataframe tbody tr th:only-of-type {\n",
       "        vertical-align: middle;\n",
       "    }\n",
       "\n",
       "    .dataframe tbody tr th {\n",
       "        vertical-align: top;\n",
       "    }\n",
       "\n",
       "    .dataframe thead th {\n",
       "        text-align: right;\n",
       "    }\n",
       "</style>\n",
       "<table border=\"1\" class=\"dataframe\">\n",
       "  <thead>\n",
       "    <tr style=\"text-align: right;\">\n",
       "      <th></th>\n",
       "      <th>Variable</th>\n",
       "      <th>Feat_Imp</th>\n",
       "    </tr>\n",
       "  </thead>\n",
       "  <tbody>\n",
       "    <tr>\n",
       "      <th>11</th>\n",
       "      <td>time</td>\n",
       "      <td>0.319382</td>\n",
       "    </tr>\n",
       "    <tr>\n",
       "      <th>7</th>\n",
       "      <td>serum_creatinine</td>\n",
       "      <td>0.158402</td>\n",
       "    </tr>\n",
       "    <tr>\n",
       "      <th>4</th>\n",
       "      <td>ejection_fraction</td>\n",
       "      <td>0.129048</td>\n",
       "    </tr>\n",
       "    <tr>\n",
       "      <th>0</th>\n",
       "      <td>age</td>\n",
       "      <td>0.102676</td>\n",
       "    </tr>\n",
       "    <tr>\n",
       "      <th>2</th>\n",
       "      <td>creatinine_phosphokinase</td>\n",
       "      <td>0.079318</td>\n",
       "    </tr>\n",
       "    <tr>\n",
       "      <th>6</th>\n",
       "      <td>platelets</td>\n",
       "      <td>0.077245</td>\n",
       "    </tr>\n",
       "    <tr>\n",
       "      <th>8</th>\n",
       "      <td>serum_sodium</td>\n",
       "      <td>0.070473</td>\n",
       "    </tr>\n",
       "    <tr>\n",
       "      <th>1</th>\n",
       "      <td>anaemia</td>\n",
       "      <td>0.015128</td>\n",
       "    </tr>\n",
       "    <tr>\n",
       "      <th>9</th>\n",
       "      <td>sex</td>\n",
       "      <td>0.014417</td>\n",
       "    </tr>\n",
       "    <tr>\n",
       "      <th>3</th>\n",
       "      <td>diabetes</td>\n",
       "      <td>0.012262</td>\n",
       "    </tr>\n",
       "    <tr>\n",
       "      <th>10</th>\n",
       "      <td>smoking</td>\n",
       "      <td>0.012148</td>\n",
       "    </tr>\n",
       "    <tr>\n",
       "      <th>5</th>\n",
       "      <td>high_blood_pressure</td>\n",
       "      <td>0.009501</td>\n",
       "    </tr>\n",
       "  </tbody>\n",
       "</table>\n",
       "</div>"
      ],
      "text/plain": [
       "                    Variable  Feat_Imp\n",
       "11                      time  0.319382\n",
       "7           serum_creatinine  0.158402\n",
       "4          ejection_fraction  0.129048\n",
       "0                        age  0.102676\n",
       "2   creatinine_phosphokinase  0.079318\n",
       "6                  platelets  0.077245\n",
       "8               serum_sodium  0.070473\n",
       "1                    anaemia  0.015128\n",
       "9                        sex  0.014417\n",
       "3                   diabetes  0.012262\n",
       "10                   smoking  0.012148\n",
       "5        high_blood_pressure  0.009501"
      ]
     },
     "execution_count": 288,
     "metadata": {},
     "output_type": "execute_result"
    }
   ],
   "source": [
    "imp=pd.DataFrame({'Variable':list(x_train.columns),'Feat_Imp':rf_m.feature_importances_}).sort_values('Feat_Imp',ascending=False)\n",
    "imp"
   ]
  },
  {
   "cell_type": "markdown",
   "metadata": {},
   "source": [
    "## Imp variables are time,serum_creatinine,ejection_fraction and age\n",
    "## Creating models on selected variables"
   ]
  },
  {
   "cell_type": "code",
   "execution_count": 289,
   "metadata": {},
   "outputs": [
    {
     "data": {
      "text/html": [
       "<div>\n",
       "<style scoped>\n",
       "    .dataframe tbody tr th:only-of-type {\n",
       "        vertical-align: middle;\n",
       "    }\n",
       "\n",
       "    .dataframe tbody tr th {\n",
       "        vertical-align: top;\n",
       "    }\n",
       "\n",
       "    .dataframe thead th {\n",
       "        text-align: right;\n",
       "    }\n",
       "</style>\n",
       "<table border=\"1\" class=\"dataframe\">\n",
       "  <thead>\n",
       "    <tr style=\"text-align: right;\">\n",
       "      <th></th>\n",
       "      <th>time</th>\n",
       "      <th>serum_creatinine</th>\n",
       "      <th>ejection_fraction</th>\n",
       "      <th>age</th>\n",
       "      <th>DEATH_EVENT</th>\n",
       "    </tr>\n",
       "  </thead>\n",
       "  <tbody>\n",
       "    <tr>\n",
       "      <th>0</th>\n",
       "      <td>0.000000</td>\n",
       "      <td>1.9</td>\n",
       "      <td>0.090909</td>\n",
       "      <td>1</td>\n",
       "      <td>1</td>\n",
       "    </tr>\n",
       "    <tr>\n",
       "      <th>1</th>\n",
       "      <td>0.007117</td>\n",
       "      <td>1.1</td>\n",
       "      <td>0.363636</td>\n",
       "      <td>0</td>\n",
       "      <td>1</td>\n",
       "    </tr>\n",
       "    <tr>\n",
       "      <th>2</th>\n",
       "      <td>0.010676</td>\n",
       "      <td>1.3</td>\n",
       "      <td>0.090909</td>\n",
       "      <td>1</td>\n",
       "      <td>1</td>\n",
       "    </tr>\n",
       "    <tr>\n",
       "      <th>3</th>\n",
       "      <td>0.010676</td>\n",
       "      <td>1.9</td>\n",
       "      <td>0.090909</td>\n",
       "      <td>0</td>\n",
       "      <td>1</td>\n",
       "    </tr>\n",
       "    <tr>\n",
       "      <th>4</th>\n",
       "      <td>0.014235</td>\n",
       "      <td>2.7</td>\n",
       "      <td>0.090909</td>\n",
       "      <td>1</td>\n",
       "      <td>1</td>\n",
       "    </tr>\n",
       "  </tbody>\n",
       "</table>\n",
       "</div>"
      ],
      "text/plain": [
       "       time  serum_creatinine  ejection_fraction  age  DEATH_EVENT\n",
       "0  0.000000               1.9           0.090909    1            1\n",
       "1  0.007117               1.1           0.363636    0            1\n",
       "2  0.010676               1.3           0.090909    1            1\n",
       "3  0.010676               1.9           0.090909    0            1\n",
       "4  0.014235               2.7           0.090909    1            1"
      ]
     },
     "execution_count": 289,
     "metadata": {},
     "output_type": "execute_result"
    }
   ],
   "source": [
    "df_sel=df[['time','serum_creatinine','ejection_fraction','age','DEATH_EVENT']]\n",
    "df_sel.head()"
   ]
  },
  {
   "cell_type": "code",
   "execution_count": 290,
   "metadata": {},
   "outputs": [
    {
     "name": "stdout",
     "output_type": "stream",
     "text": [
      "Accuracy score is 0.82\n",
      "Precision score is 0.79\n"
     ]
    }
   ],
   "source": [
    "x,y=df_sel.drop(['DEATH_EVENT'],axis=1),df_sel['DEATH_EVENT']\n",
    "x_train,x_test,y_train,y_test=train_test_split(x,y,test_size=0.3)\n",
    "log=LogisticRegression()\n",
    "log.fit(x_train,y_train)\n",
    "log_pred=log.predict(x_test)\n",
    "print('Accuracy score is {:.2f}'.format(accuracy_score(y_test,log_pred)))\n",
    "print('Precision score is {:.2f}'.format(precision_score(y_test,log_pred)))"
   ]
  },
  {
   "cell_type": "code",
   "execution_count": 291,
   "metadata": {},
   "outputs": [
    {
     "name": "stdout",
     "output_type": "stream",
     "text": [
      "Accuracy score is 0.88\n",
      "Precision score is 0.91\n"
     ]
    }
   ],
   "source": [
    "x,y=df_sel.drop(['DEATH_EVENT'],axis=1),df_sel['DEATH_EVENT']\n",
    "x_train,x_test,y_train,y_test=train_test_split(x,y,test_size=0.3)\n",
    "log=LogisticRegression(penalty='l1',solver='liblinear')\n",
    "log.fit(x_train,y_train)\n",
    "log_pred=log.predict(x_test)\n",
    "print('Accuracy score is {:.2f}'.format(accuracy_score(y_test,log_pred)))\n",
    "print('Precision score is {:.2f}'.format(precision_score(y_test,log_pred)))"
   ]
  },
  {
   "cell_type": "code",
   "execution_count": 292,
   "metadata": {},
   "outputs": [
    {
     "name": "stdout",
     "output_type": "stream",
     "text": [
      "Accuracy score is 0.86\n",
      "Precision score is 0.81\n"
     ]
    }
   ],
   "source": [
    "from sklearn.ensemble import RandomForestClassifier\n",
    "rf=RandomForestClassifier()\n",
    "rf.fit(x_train,y_train)\n",
    "rf_pred=rf.predict(x_test)\n",
    "print('Accuracy score is {:.2f}'.format(accuracy_score(y_test,rf_pred)))\n",
    "print('Precision score is {:.2f}'.format(precision_score(y_test,rf_pred)))"
   ]
  },
  {
   "cell_type": "code",
   "execution_count": 293,
   "metadata": {},
   "outputs": [
    {
     "name": "stdout",
     "output_type": "stream",
     "text": [
      "[17:06:57] WARNING: C:/Users/Administrator/workspace/xgboost-win64_release_1.4.0/src/learner.cc:1095: Starting in XGBoost 1.3.0, the default evaluation metric used with the objective 'binary:logistic' was changed from 'error' to 'logloss'. Explicitly set eval_metric if you'd like to restore the old behavior.\n",
      "Accuracy score is 0.86\n",
      "Precision score is 0.81\n"
     ]
    },
    {
     "name": "stderr",
     "output_type": "stream",
     "text": [
      "C:\\Users\\B SRIDHAR\\anaconda3\\lib\\site-packages\\xgboost\\sklearn.py:1146: UserWarning: The use of label encoder in XGBClassifier is deprecated and will be removed in a future release. To remove this warning, do the following: 1) Pass option use_label_encoder=False when constructing XGBClassifier object; and 2) Encode your labels (y) as integers starting with 0, i.e. 0, 1, 2, ..., [num_class - 1].\n",
      "  warnings.warn(label_encoder_deprecation_msg, UserWarning)\n"
     ]
    }
   ],
   "source": [
    "xg=XGBClassifier()\n",
    "xg.fit(x_train,y_train)\n",
    "xg_pred=rf.predict(x_test)\n",
    "print('Accuracy score is {:.2f}'.format(accuracy_score(y_test,xg_pred)))\n",
    "print('Precision score is {:.2f}'.format(precision_score(y_test,xg_pred)))"
   ]
  },
  {
   "cell_type": "code",
   "execution_count": 294,
   "metadata": {},
   "outputs": [
    {
     "name": "stdout",
     "output_type": "stream",
     "text": [
      "Accuracy score is 0.86\n",
      "Precision score is 0.81\n"
     ]
    }
   ],
   "source": [
    "knn=KNeighborsClassifier(n_neighbors=5)\n",
    "knn.fit(x_train,y_train)\n",
    "knn_pred=rf.predict(x_test)\n",
    "print('Accuracy score is {:.2f}'.format(accuracy_score(y_test,knn_pred)))\n",
    "print('Precision score is {:.2f}'.format(precision_score(y_test,knn_pred)))"
   ]
  },
  {
   "cell_type": "code",
   "execution_count": null,
   "metadata": {},
   "outputs": [],
   "source": []
  }
 ],
 "metadata": {
  "kernelspec": {
   "display_name": "Python 3",
   "language": "python",
   "name": "python3"
  },
  "language_info": {
   "codemirror_mode": {
    "name": "ipython",
    "version": 3
   },
   "file_extension": ".py",
   "mimetype": "text/x-python",
   "name": "python",
   "nbconvert_exporter": "python",
   "pygments_lexer": "ipython3",
   "version": "3.8.3"
  }
 },
 "nbformat": 4,
 "nbformat_minor": 4
}
